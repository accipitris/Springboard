{
 "cells": [
  {
   "cell_type": "markdown",
   "metadata": {},
   "source": [
    "# What is the True Normal Human Body Temperature? \n",
    "\n",
    "#### Background\n",
    "\n",
    "The mean normal body temperature was held to be 37$^{\\circ}$C or 98.6$^{\\circ}$F for more than 120 years since it was first conceptualized and reported by Carl Wunderlich in a famous 1868 book. But, is this value statistically correct?"
   ]
  },
  {
   "cell_type": "markdown",
   "metadata": {},
   "source": [
    "<h3>Exercises</h3>\n",
    "\n",
    "<p>In this exercise, you will analyze a dataset of human body temperatures and employ the concepts of hypothesis testing, confidence intervals, and statistical significance.</p>\n",
    "\n",
    "<p>Answer the following questions <b>in this notebook below and submit to your Github account</b>.</p> \n",
    "\n",
    "<ol>\n",
    "<li>  Is the distribution of body temperatures normal? \n",
    "    <ul>\n",
    "    <li> Although this is not a requirement for the Central Limit Theorem to hold (read the introduction on Wikipedia's page about the CLT carefully: https://en.wikipedia.org/wiki/Central_limit_theorem), it gives us some peace of mind that the population may also be normally distributed if we assume that this sample is representative of the population.\n",
    "    <li> Think about the way you're going to check for the normality of the distribution. Graphical methods are usually used first, but there are also other ways: https://en.wikipedia.org/wiki/Normality_test\n",
    "    </ul>\n",
    "<li>  Is the sample size large? Are the observations independent?\n",
    "    <ul>\n",
    "    <li> Remember that this is a condition for the Central Limit Theorem, and hence the statistical tests we are using, to apply.\n",
    "    </ul>\n",
    "<li>  Is the true population mean really 98.6 degrees F?\n",
    "    <ul>\n",
    "    <li> First, try a bootstrap hypothesis test.\n",
    "    <li> Now, let's try frequentist statistical testing. Would you use a one-sample or two-sample test? Why?\n",
    "    <li> In this situation, is it appropriate to use the $t$ or $z$ statistic? \n",
    "    <li> Now try using the other test. How is the result be different? Why?\n",
    "    </ul>\n",
    "<li>  Draw a small sample of size 10 from the data and repeat both frequentist tests. \n",
    "    <ul>\n",
    "    <li> Which one is the correct one to use? \n",
    "    <li> What do you notice? What does this tell you about the difference in application of the $t$ and $z$ statistic?\n",
    "    </ul>\n",
    "<li>  At what temperature should we consider someone's temperature to be \"abnormal\"?\n",
    "    <ul>\n",
    "    <li> As in the previous example, try calculating everything using the boostrap approach, as well as the frequentist approach.\n",
    "    <li> Start by computing the margin of error and confidence interval. When calculating the confidence interval, keep in mind that you should use the appropriate formula for one draw, and not N draws.\n",
    "    </ul>\n",
    "<li>  Is there a significant difference between males and females in normal temperature?\n",
    "    <ul>\n",
    "    <li> What testing approach did you use and why?\n",
    "    <li> Write a story with your conclusion in the context of the original problem.\n",
    "    </ul>\n",
    "</ol>\n",
    "\n",
    "You can include written notes in notebook cells using Markdown: \n",
    "   - In the control panel at the top, choose Cell > Cell Type > Markdown\n",
    "   - Markdown syntax: http://nestacms.com/docs/creating-content/markdown-cheat-sheet\n",
    "\n",
    "#### Resources\n",
    "\n",
    "+ Information and data sources: http://www.amstat.org/publications/jse/datasets/normtemp.txt, http://www.amstat.org/publications/jse/jse_data_archive.htm\n",
    "+ Markdown syntax: http://nestacms.com/docs/creating-content/markdown-cheat-sheet\n",
    "\n",
    "****"
   ]
  },
  {
   "cell_type": "code",
   "execution_count": 156,
   "metadata": {},
   "outputs": [],
   "source": [
    "import pandas as pd\n",
    "import numpy as np\n",
    "import matplotlib.pyplot as plt\n",
    "import seaborn as sns\n",
    "from statsmodels.distributions.empirical_distribution import ECDF\n",
    "from statsmodels.graphics.gofplots import qqplot\n",
    "from numpy.random import seed\n",
    "from numpy.random import random"
   ]
  },
  {
   "cell_type": "code",
   "execution_count": 157,
   "metadata": {},
   "outputs": [],
   "source": [
    "## Importing data \n",
    "data_r = pd.read_csv('C:/Users/jlpar/Documents/Springboard Data Files/human_body_temperature.csv')"
   ]
  },
  {
   "cell_type": "code",
   "execution_count": 158,
   "metadata": {},
   "outputs": [],
   "source": [
    "df=data_r"
   ]
  },
  {
   "cell_type": "code",
   "execution_count": 159,
   "metadata": {},
   "outputs": [
    {
     "data": {
      "text/html": [
       "<div>\n",
       "<style scoped>\n",
       "    .dataframe tbody tr th:only-of-type {\n",
       "        vertical-align: middle;\n",
       "    }\n",
       "\n",
       "    .dataframe tbody tr th {\n",
       "        vertical-align: top;\n",
       "    }\n",
       "\n",
       "    .dataframe thead th {\n",
       "        text-align: right;\n",
       "    }\n",
       "</style>\n",
       "<table border=\"1\" class=\"dataframe\">\n",
       "  <thead>\n",
       "    <tr style=\"text-align: right;\">\n",
       "      <th></th>\n",
       "      <th>temperature</th>\n",
       "      <th>heart_rate</th>\n",
       "    </tr>\n",
       "  </thead>\n",
       "  <tbody>\n",
       "    <tr>\n",
       "      <th>count</th>\n",
       "      <td>130.000000</td>\n",
       "      <td>130.000000</td>\n",
       "    </tr>\n",
       "    <tr>\n",
       "      <th>mean</th>\n",
       "      <td>98.249231</td>\n",
       "      <td>73.761538</td>\n",
       "    </tr>\n",
       "    <tr>\n",
       "      <th>std</th>\n",
       "      <td>0.733183</td>\n",
       "      <td>7.062077</td>\n",
       "    </tr>\n",
       "    <tr>\n",
       "      <th>min</th>\n",
       "      <td>96.300000</td>\n",
       "      <td>57.000000</td>\n",
       "    </tr>\n",
       "    <tr>\n",
       "      <th>25%</th>\n",
       "      <td>97.800000</td>\n",
       "      <td>69.000000</td>\n",
       "    </tr>\n",
       "    <tr>\n",
       "      <th>50%</th>\n",
       "      <td>98.300000</td>\n",
       "      <td>74.000000</td>\n",
       "    </tr>\n",
       "    <tr>\n",
       "      <th>75%</th>\n",
       "      <td>98.700000</td>\n",
       "      <td>79.000000</td>\n",
       "    </tr>\n",
       "    <tr>\n",
       "      <th>max</th>\n",
       "      <td>100.800000</td>\n",
       "      <td>89.000000</td>\n",
       "    </tr>\n",
       "  </tbody>\n",
       "</table>\n",
       "</div>"
      ],
      "text/plain": [
       "       temperature  heart_rate\n",
       "count   130.000000  130.000000\n",
       "mean     98.249231   73.761538\n",
       "std       0.733183    7.062077\n",
       "min      96.300000   57.000000\n",
       "25%      97.800000   69.000000\n",
       "50%      98.300000   74.000000\n",
       "75%      98.700000   79.000000\n",
       "max     100.800000   89.000000"
      ]
     },
     "execution_count": 159,
     "metadata": {},
     "output_type": "execute_result"
    }
   ],
   "source": [
    "df.describe()"
   ]
  },
  {
   "cell_type": "code",
   "execution_count": 160,
   "metadata": {},
   "outputs": [
    {
     "data": {
      "text/plain": [
       "pandas.core.frame.DataFrame"
      ]
     },
     "execution_count": 160,
     "metadata": {},
     "output_type": "execute_result"
    }
   ],
   "source": [
    "type(df)"
   ]
  },
  {
   "cell_type": "code",
   "execution_count": 161,
   "metadata": {},
   "outputs": [
    {
     "data": {
      "text/plain": [
       "Index(['temperature', 'gender', 'heart_rate'], dtype='object')"
      ]
     },
     "execution_count": 161,
     "metadata": {},
     "output_type": "execute_result"
    }
   ],
   "source": [
    "df.columns"
   ]
  },
  {
   "cell_type": "code",
   "execution_count": 162,
   "metadata": {},
   "outputs": [
    {
     "data": {
      "text/html": [
       "<div>\n",
       "<style scoped>\n",
       "    .dataframe tbody tr th:only-of-type {\n",
       "        vertical-align: middle;\n",
       "    }\n",
       "\n",
       "    .dataframe tbody tr th {\n",
       "        vertical-align: top;\n",
       "    }\n",
       "\n",
       "    .dataframe thead th {\n",
       "        text-align: right;\n",
       "    }\n",
       "</style>\n",
       "<table border=\"1\" class=\"dataframe\">\n",
       "  <thead>\n",
       "    <tr style=\"text-align: right;\">\n",
       "      <th></th>\n",
       "      <th>temperature</th>\n",
       "      <th>gender</th>\n",
       "      <th>heart_rate</th>\n",
       "    </tr>\n",
       "  </thead>\n",
       "  <tbody>\n",
       "    <tr>\n",
       "      <th>0</th>\n",
       "      <td>99.3</td>\n",
       "      <td>F</td>\n",
       "      <td>68.0</td>\n",
       "    </tr>\n",
       "    <tr>\n",
       "      <th>1</th>\n",
       "      <td>98.4</td>\n",
       "      <td>F</td>\n",
       "      <td>81.0</td>\n",
       "    </tr>\n",
       "    <tr>\n",
       "      <th>2</th>\n",
       "      <td>97.8</td>\n",
       "      <td>M</td>\n",
       "      <td>73.0</td>\n",
       "    </tr>\n",
       "  </tbody>\n",
       "</table>\n",
       "</div>"
      ],
      "text/plain": [
       "   temperature gender  heart_rate\n",
       "0         99.3      F        68.0\n",
       "1         98.4      F        81.0\n",
       "2         97.8      M        73.0"
      ]
     },
     "execution_count": 162,
     "metadata": {},
     "output_type": "execute_result"
    }
   ],
   "source": [
    "df.head(3)"
   ]
  },
  {
   "cell_type": "markdown",
   "metadata": {},
   "source": [
    "Is the distribution of body temperatures normal?\n",
    "\n",
    "The Body Temperature data was plotted using a histogram with density plot, ECDP Graph and QQ Plot below. The temperature data is from 130 samples taken from the population and appear to be normally distributed for this sample. There are two outliers below the lower interquatile range with a 96.3 degree body temperature and one outlier above the upper interquartile range with a value of 100.8 as shown in the df.describe statement."
   ]
  },
  {
   "cell_type": "code",
   "execution_count": 164,
   "metadata": {},
   "outputs": [
    {
     "data": {
      "image/png": "[encoded data removed]",
      "text/plain": [
       "<Figure size 432x288 with 1 Axes>"
      ]
     },
     "metadata": {
      "needs_background": "light"
     },
     "output_type": "display_data"
    }
   ],
   "source": [
    "sns.distplot(df['temperature'], color = 'purple')\n",
    "plt.title('Total Temperatue Histogram with Density Plot')\n",
    "plt.show()"
   ]
  },
  {
   "cell_type": "code",
   "execution_count": 165,
   "metadata": {},
   "outputs": [
    {
     "data": {
      "image/png": "[encoded data removed]",
      "text/plain": [
       "<Figure size 432x288 with 1 Axes>"
      ]
     },
     "metadata": {
      "needs_background": "light"
     },
     "output_type": "display_data"
    }
   ],
   "source": [
    "# Emperical Cumulative Distribution Function (ECDF) for Body Temperature\n",
    "x = np.sort(df['temperature'])\n",
    "y = np.arange(1, len(x)+1) / len(x)\n",
    "plt.plot(x, y, marker='.', linestyle='none')\n",
    "plt.xlabel('Body Temperature')\n",
    "plt.ylabel('ECDF')\n",
    "plt.margins(0.02) # Keeps data off plot edges\n",
    "plt.show()"
   ]
  },
  {
   "cell_type": "code",
   "execution_count": 166,
   "metadata": {},
   "outputs": [
    {
     "data": {
      "image/png": "[encoded data removed]",
      "text/plain": [
       "<Figure size 432x288 with 1 Axes>"
      ]
     },
     "metadata": {
      "needs_background": "light"
     },
     "output_type": "display_data"
    }
   ],
   "source": [
    "# q-q plot\n",
    "qqplot(df.temperature, line='s')\n",
    "plt.title('QQ Plot for Temperature')\n",
    "plt.show()"
   ]
  },
  {
   "cell_type": "code",
   "execution_count": 167,
   "metadata": {},
   "outputs": [
    {
     "name": "stdout",
     "output_type": "stream",
     "text": [
      "98.2492\n",
      "0.7304\n"
     ]
    }
   ],
   "source": [
    "# Is the distribution of body temperatures normal?\n",
    "# Compute mean and standard deviation: mu, sigma\n",
    "\n",
    "mu = np.mean(df['temperature'])\n",
    "sigma = np.std(df['temperature'])\n",
    "\n",
    "print(round(mu, 4))\n",
    "print(round(sigma, 4))"
   ]
  },
  {
   "cell_type": "markdown",
   "metadata": {},
   "source": [
    "Q2) Is the sample size large? Are the observations independent?\n",
    "\n",
    "The sample size is greater than 30 and can be considered a large sample size.  Most sampling assumptions are assumed to be an independent sample from the dataset. The Central Limit Theory shows that if the sample size is large enough (n > 30) then the departure from the data sample is not too great, even when the source population is not normally distributed in the study."
   ]
  },
  {
   "cell_type": "code",
   "execution_count": 168,
   "metadata": {},
   "outputs": [
    {
     "data": {
      "text/plain": [
       "count    130.000000\n",
       "mean      98.249231\n",
       "std        0.733183\n",
       "min       96.300000\n",
       "25%       97.800000\n",
       "50%       98.300000\n",
       "75%       98.700000\n",
       "max      100.800000\n",
       "Name: temperature, dtype: float64"
      ]
     },
     "execution_count": 168,
     "metadata": {},
     "output_type": "execute_result"
    }
   ],
   "source": [
    "## Q2 Using the desribe function to determine the sample size of the Temperature data set.  \n",
    "df.temperature.describe()"
   ]
  },
  {
   "cell_type": "markdown",
   "metadata": {},
   "source": [
    "Question 3) Is the true population mean really 98.6 degrees F?\n",
    "\n",
    "The Bootstrap was calculated with a 95 % Confidence Interval to show the distribution of the samples from \n",
    "the Human Temperature.  The assignment asks for the T-Test and then a Z Test to be calculated and the results\n",
    "can be seen below.  The T Test value is -5.45 with a p value of 2.41e-07 and the Z Test values was also -5.45 with a\n",
    "p value of 4.90e-08 for this study.  The population standard deviation was not given so the appropiate test is the T\n",
    "Test.  \n",
    "\n",
    "Comparing the P value (p_val_t) to a 95% alpha level, the results show this value is much less than 0.05 \n",
    "and we will reject the Null Hypothesis.  The null states that the sample size is no different than the population mean.  The \n",
    "alternative hypothesis is true and the true population is different than the sample body temperature.  "
   ]
  },
  {
   "cell_type": "code",
   "execution_count": 169,
   "metadata": {},
   "outputs": [
    {
     "name": "stdout",
     "output_type": "stream",
     "text": [
      "10000\n"
     ]
    }
   ],
   "source": [
    "## Calculating the Bootstrap Confidence Interval for BodyTemperature with 95% Confidence Interval\n",
    "from sklearn.utils import resample\n",
    "\n",
    "temp = df.temperature\n",
    "\n",
    "temp_bootstrap = []\n",
    "for i in range(10000):\n",
    "    \n",
    "    np.random.seed(i)\n",
    "    temp_bootstrap.append((resample(temp)))\n",
    "print(len(temp_bootstrap))"
   ]
  },
  {
   "cell_type": "code",
   "execution_count": 170,
   "metadata": {},
   "outputs": [
    {
     "data": {
      "text/plain": [
       "array([98.13923077, 98.37538462, 98.26461538, ..., 98.26153846,\n",
       "       98.19      , 98.24615385])"
      ]
     },
     "execution_count": 170,
     "metadata": {},
     "output_type": "execute_result"
    }
   ],
   "source": [
    "# Calculating the Bootstap means\n",
    "bootstrap_means = np.mean(temp_bootstrap, axis=1)\n",
    "bootstrap_means"
   ]
  },
  {
   "cell_type": "code",
   "execution_count": 171,
   "metadata": {},
   "outputs": [
    {
     "data": {
      "image/png": "[encoded data removed]",
      "text/plain": [
       "<Figure size 720x216 with 1 Axes>"
      ]
     },
     "metadata": {
      "needs_background": "light"
     },
     "output_type": "display_data"
    },
    {
     "name": "stdout",
     "output_type": "stream",
     "text": [
      "Lower bound @ 2.5%: 98.125\n",
      "Upper bound @ 50%: 98.376\n",
      "Middle bound@ 97.5%: 98.25\n"
     ]
    }
   ],
   "source": [
    "# Plotting the lower, Middle and Upper Bounds for the Body Temperature from this dataset.  \n",
    "lower_bound = np.percentile(bootstrap_means, 2.5)\n",
    "middle_bound = np.percentile (bootstrap_means, 50.0)\n",
    "upper_bound = np.percentile(bootstrap_means, 97.5)\n",
    "\n",
    "fig = plt.figure(figsize=(10,3))\n",
    "ax = plt.hist(bootstrap_means, bins=50)\n",
    "\n",
    "plt.xlabel('Body Temperature')\n",
    "plt.ylabel('Frequency')\n",
    "plt.axvline(lower_bound, color='r')\n",
    "plt.axvline(middle_bound, color='b')\n",
    "plt.axvline(upper_bound, color='r')\n",
    "plt.show()\n",
    "\n",
    "print('Lower bound @ 2.5%: {}'.format(round(lower_bound, 3)))\n",
    "print('Upper bound @ 50%: {}'.format(round(upper_bound, 3)))\n",
    "print('Middle bound@ 97.5%: {}'.format(middle_bound))"
   ]
  },
  {
   "cell_type": "code",
   "execution_count": 172,
   "metadata": {},
   "outputs": [
    {
     "name": "stdout",
     "output_type": "stream",
     "text": [
      "T Stat -5.4548232923645195\n",
      "p value 2.4106320415561276e-07\n"
     ]
    }
   ],
   "source": [
    "# Calculating the T Statistic and  P Value for a one sided test\n",
    "import scipy\n",
    "\n",
    "true_mu = 98.6\n",
    "data1=df.temperature\n",
    "\n",
    "t_stat, p_val_t = scipy.stats.ttest_1samp(data1, true_mu)\n",
    "print('T Stat', t_stat)\n",
    "print('p value', p_val_t)"
   ]
  },
  {
   "cell_type": "code",
   "execution_count": 173,
   "metadata": {},
   "outputs": [
    {
     "name": "stdout",
     "output_type": "stream",
     "text": [
      "z-statistic: -5.4548232923645195\n",
      "p value = 4.9021570141012155e-08\n"
     ]
    }
   ],
   "source": [
    "# Calculating the Z Statistic and  P Value for a one sided test\n",
    "z_stat, p_val_t = scipy.stats.ttest_1samp(data1, true_mu)\n",
    "print('z-statistic:',z_stat)\n",
    "print('p value =',p_val_z)"
   ]
  },
  {
   "cell_type": "code",
   "execution_count": 174,
   "metadata": {},
   "outputs": [
    {
     "data": {
      "text/plain": [
       "True"
      ]
     },
     "execution_count": 174,
     "metadata": {},
     "output_type": "execute_result"
    }
   ],
   "source": [
    "alpha = 0.05\n",
    "p_val_t < alpha"
   ]
  },
  {
   "cell_type": "code",
   "execution_count": null,
   "metadata": {},
   "outputs": [],
   "source": []
  },
  {
   "cell_type": "markdown",
   "metadata": {},
   "source": [
    "Q4) Draw a small sample of size 10 from the data and repeat both frequentist tests.  \n",
    "\n",
    "A random sample of 10 was generated from the 130 samples for temperature in this dataset.  The T Stats and Z Stats along with the p values are calculated below.  The values will change depending on what sample has been drawn from the random draw for the 10 samples.  The P value for the Z Statistic is much lower when (4.9e-8) compared to the T Statistic and this is 0.905.  \n",
    "These values change for each random sample and the p value for the T statsitic has some values barely less than the 0.05 alpha \n",
    "level and other values larger than this significance level.  \n",
    "\n",
    "The T Statistic is the appropriate sample for this study because the standard deviation is not known in this \n",
    "example.  Also the sample size is also less than 30 and is the second criteria to be used in determining if the T or Z\n",
    "score will be used for a sample.  "
   ]
  },
  {
   "cell_type": "code",
   "execution_count": 175,
   "metadata": {},
   "outputs": [],
   "source": [
    "# Obtaining a random sample size of 10 from the 130 data points  to test the T and Z Statistic\n",
    "sample = np.random.choice(df['temperature'], size=10)"
   ]
  },
  {
   "cell_type": "code",
   "execution_count": 178,
   "metadata": {},
   "outputs": [
    {
     "name": "stdout",
     "output_type": "stream",
     "text": [
      "T Stat -0.7147562946136885\n",
      "p value 0.49288161604442926\n"
     ]
    }
   ],
   "source": [
    "## Calculating the T Statistic and P value with a random sample of 10\n",
    "t_stat, p_val_t = scipy.stats.ttest_1samp(sample, true_mu)\n",
    "print('T Stat', t_stat)\n",
    "print('p value', p_val_t)"
   ]
  },
  {
   "cell_type": "code",
   "execution_count": 179,
   "metadata": {},
   "outputs": [
    {
     "name": "stdout",
     "output_type": "stream",
     "text": [
      "z-statistic: -0.7147562946136885\n",
      "p value = 4.9021570141012155e-08\n"
     ]
    }
   ],
   "source": [
    "## Calculating the Z Statistic and P value with a random sample of 10\n",
    "z_stat, p_val_t = scipy.stats.ttest_1samp(sample, true_mu)\n",
    "print('z-statistic:',z_stat)\n",
    "print('p value =',p_val_z)"
   ]
  },
  {
   "cell_type": "markdown",
   "metadata": {},
   "source": [
    "Q5) At what temperature should we consider someone's temperature to be \"abnormal\"?\n",
    "\n",
    "The 95% Confidence Interval was calculated using scipy stats function The lower value is at 96.82 and the \n",
    "upper value is at 99.69 for this dataset.  The values along with the mean are graphed below in a histogram\n",
    "to give a visual on how the CI affects the sample size for this study.  Any temperature value that is \n",
    "less than 96.82 or greator than 99.69 is considered abnornal for this study based on the 95% CI.  "
   ]
  },
  {
   "cell_type": "code",
   "execution_count": 180,
   "metadata": {},
   "outputs": [
    {
     "name": "stdout",
     "output_type": "stream",
     "text": [
      "95% Lower and Upper confidence interval: (96.81775582674824, 99.68070571171332)\n"
     ]
    }
   ],
   "source": [
    "# calculate 95% confidence interval\n",
    "from scipy import stats\n",
    "CI = stats.norm.interval(alpha=0.95, \n",
    "                         loc=np.mean(df['temperature']), \n",
    "                         scale=np.std(df['temperature']))\n",
    "\n",
    "print('95% Lower and Upper confidence interval:', CI)"
   ]
  },
  {
   "cell_type": "code",
   "execution_count": 181,
   "metadata": {},
   "outputs": [
    {
     "data": {
      "image/png": "[encoded data removed]",
      "text/plain": [
       "<Figure size 720x216 with 1 Axes>"
      ]
     },
     "metadata": {
      "needs_background": "light"
     },
     "output_type": "display_data"
    },
    {
     "name": "stdout",
     "output_type": "stream",
     "text": [
      "Lower CI @ 2.5%: 98.125\n",
      "Mean @ 50 %: 98.25\n",
      "Upper CI @ 97.5: 98.376\n"
     ]
    }
   ],
   "source": [
    "# Plotting the lower, Middle and Upper Bounds for the Body Temperature from this dataset.  \n",
    "temp = df.temperature\n",
    "\n",
    "lower_CI = 99.68\n",
    "mean = 98.25\n",
    "upper_CI = 96.82\n",
    "\n",
    "fig = plt.figure(figsize=(10,3))\n",
    "ax = plt.hist(temp, bins=30)\n",
    "\n",
    "plt.title('Histogram containing the 95% CI and Mean')\n",
    "plt.xlabel('Body Temperature')\n",
    "plt.ylabel('Frequency')\n",
    "plt.axvline(lower_CI, color='r')\n",
    "plt.axvline(mean, color='b')\n",
    "plt.axvline(upper_CI, color='r')\n",
    "plt.show()\n",
    "\n",
    "print('Lower CI @ 2.5%: {}'.format(round(lower_bound, 3)))\n",
    "print('Mean @ 50 %: {}'.format(middle_bound))\n",
    "print('Upper CI @ 97.5: {}'.format(round(upper_bound, 3)))"
   ]
  },
  {
   "cell_type": "markdown",
   "metadata": {},
   "source": [
    "Q7 Is there a significant difference between males and females in normal temperature? The answer is at the \n",
    "end of this section along with the conclusion."
   ]
  },
  {
   "cell_type": "code",
   "execution_count": 185,
   "metadata": {},
   "outputs": [],
   "source": [
    "## Importing data                \n",
    "data1 = pd.read_csv('C:/Users/jlpar/Documents/Springboard Data Files/male_body_temp.csv')   "
   ]
  },
  {
   "cell_type": "code",
   "execution_count": 186,
   "metadata": {},
   "outputs": [
    {
     "data": {
      "text/html": [
       "<div>\n",
       "<style scoped>\n",
       "    .dataframe tbody tr th:only-of-type {\n",
       "        vertical-align: middle;\n",
       "    }\n",
       "\n",
       "    .dataframe tbody tr th {\n",
       "        vertical-align: top;\n",
       "    }\n",
       "\n",
       "    .dataframe thead th {\n",
       "        text-align: right;\n",
       "    }\n",
       "</style>\n",
       "<table border=\"1\" class=\"dataframe\">\n",
       "  <thead>\n",
       "    <tr style=\"text-align: right;\">\n",
       "      <th></th>\n",
       "      <th>temperature</th>\n",
       "      <th>gender</th>\n",
       "      <th>heart_rate</th>\n",
       "    </tr>\n",
       "  </thead>\n",
       "  <tbody>\n",
       "    <tr>\n",
       "      <th>0</th>\n",
       "      <td>97.8</td>\n",
       "      <td>M</td>\n",
       "      <td>73</td>\n",
       "    </tr>\n",
       "    <tr>\n",
       "      <th>1</th>\n",
       "      <td>99.2</td>\n",
       "      <td>M</td>\n",
       "      <td>83</td>\n",
       "    </tr>\n",
       "    <tr>\n",
       "      <th>2</th>\n",
       "      <td>98.0</td>\n",
       "      <td>M</td>\n",
       "      <td>71</td>\n",
       "    </tr>\n",
       "    <tr>\n",
       "      <th>3</th>\n",
       "      <td>98.8</td>\n",
       "      <td>M</td>\n",
       "      <td>78</td>\n",
       "    </tr>\n",
       "    <tr>\n",
       "      <th>4</th>\n",
       "      <td>98.2</td>\n",
       "      <td>M</td>\n",
       "      <td>72</td>\n",
       "    </tr>\n",
       "  </tbody>\n",
       "</table>\n",
       "</div>"
      ],
      "text/plain": [
       "   temperature gender  heart_rate\n",
       "0         97.8      M          73\n",
       "1         99.2      M          83\n",
       "2         98.0      M          71\n",
       "3         98.8      M          78\n",
       "4         98.2      M          72"
      ]
     },
     "execution_count": 186,
     "metadata": {},
     "output_type": "execute_result"
    }
   ],
   "source": [
    "data1.head()"
   ]
  },
  {
   "cell_type": "code",
   "execution_count": 183,
   "metadata": {},
   "outputs": [],
   "source": [
    "## Importing data that divided up the temperature data set to two datasets based on gender\n",
    "data2 = pd.read_csv('C:/Users/jlpar/Documents/Springboard Data Files/female_body_temp.csv')                  "
   ]
  },
  {
   "cell_type": "code",
   "execution_count": 187,
   "metadata": {},
   "outputs": [
    {
     "data": {
      "text/html": [
       "<div>\n",
       "<style scoped>\n",
       "    .dataframe tbody tr th:only-of-type {\n",
       "        vertical-align: middle;\n",
       "    }\n",
       "\n",
       "    .dataframe tbody tr th {\n",
       "        vertical-align: top;\n",
       "    }\n",
       "\n",
       "    .dataframe thead th {\n",
       "        text-align: right;\n",
       "    }\n",
       "</style>\n",
       "<table border=\"1\" class=\"dataframe\">\n",
       "  <thead>\n",
       "    <tr style=\"text-align: right;\">\n",
       "      <th></th>\n",
       "      <th>temperature</th>\n",
       "      <th>gender</th>\n",
       "      <th>heart_rate</th>\n",
       "    </tr>\n",
       "  </thead>\n",
       "  <tbody>\n",
       "    <tr>\n",
       "      <th>0</th>\n",
       "      <td>99.3</td>\n",
       "      <td>F</td>\n",
       "      <td>68</td>\n",
       "    </tr>\n",
       "    <tr>\n",
       "      <th>1</th>\n",
       "      <td>98.4</td>\n",
       "      <td>F</td>\n",
       "      <td>81</td>\n",
       "    </tr>\n",
       "    <tr>\n",
       "      <th>2</th>\n",
       "      <td>99.2</td>\n",
       "      <td>F</td>\n",
       "      <td>66</td>\n",
       "    </tr>\n",
       "    <tr>\n",
       "      <th>3</th>\n",
       "      <td>98.0</td>\n",
       "      <td>F</td>\n",
       "      <td>73</td>\n",
       "    </tr>\n",
       "    <tr>\n",
       "      <th>4</th>\n",
       "      <td>98.4</td>\n",
       "      <td>F</td>\n",
       "      <td>84</td>\n",
       "    </tr>\n",
       "  </tbody>\n",
       "</table>\n",
       "</div>"
      ],
      "text/plain": [
       "   temperature gender  heart_rate\n",
       "0         99.3      F          68\n",
       "1         98.4      F          81\n",
       "2         99.2      F          66\n",
       "3         98.0      F          73\n",
       "4         98.4      F          84"
      ]
     },
     "execution_count": 187,
     "metadata": {},
     "output_type": "execute_result"
    }
   ],
   "source": [
    "data2.head()"
   ]
  },
  {
   "cell_type": "code",
   "execution_count": 188,
   "metadata": {},
   "outputs": [
    {
     "data": {
      "text/plain": [
       "array([-0.04461538, -0.20923077, -0.02769231, ...,  0.08      ,\n",
       "        0.06615385,  0.01538462])"
      ]
     },
     "execution_count": 188,
     "metadata": {},
     "output_type": "execute_result"
    }
   ],
   "source": [
    "combined = df.temperature\n",
    "\n",
    "male_temp = []\n",
    "female_temp = []\n",
    "\n",
    "for i in range(10000):\n",
    "    np.random.seed(i)\n",
    "    male_temp.append(resample(combined, n_samples = len(data1.temperature)))\n",
    "    female_temp.append(resample(combined, n_samples = len(data2.temperature)))\n",
    "    \n",
    "dif_bootstrap_means = (np.mean(male_temp, axis=1)-np.mean(female_temp, axis=1))\n",
    "dif_bootstrap_means"
   ]
  },
  {
   "cell_type": "code",
   "execution_count": 189,
   "metadata": {},
   "outputs": [
    {
     "data": {
      "image/png": "[encoded data removed]",
      "text/plain": [
       "<Figure size 720x216 with 1 Axes>"
      ]
     },
     "metadata": {
      "needs_background": "light"
     },
     "output_type": "display_data"
    }
   ],
   "source": [
    "fig = plt.figure(figsize=(10,3))\n",
    "ax = plt.hist(dif_bootstrap_means, bins=30)\n",
    "\n",
    "plt.xlabel('Differences in Temperature')\n",
    "plt.ylabel('Frequency')\n",
    "plt.title('Bootstrapped Population of Temperature (Combined data)')\n",
    "plt.show()"
   ]
  },
  {
   "cell_type": "code",
   "execution_count": 190,
   "metadata": {},
   "outputs": [
    {
     "name": "stdout",
     "output_type": "stream",
     "text": [
      "observed difference in means: -0.000680769230768874\n"
     ]
    }
   ],
   "source": [
    "obs_difs = (np.mean(male_temp) - np.mean(female_temp))\n",
    "print('observed difference in means: {}'.format(obs_difs))"
   ]
  },
  {
   "cell_type": "code",
   "execution_count": 191,
   "metadata": {},
   "outputs": [
    {
     "name": "stdout",
     "output_type": "stream",
     "text": [
      "p-value: 0.5011\n"
     ]
    }
   ],
   "source": [
    "p_value = dif_bootstrap_means[dif_bootstrap_means >= obs_difs].shape[0]/10000\n",
    "print('p-value: {}'.format(p_value))"
   ]
  },
  {
   "cell_type": "code",
   "execution_count": 192,
   "metadata": {},
   "outputs": [
    {
     "data": {
      "image/png": "[encoded data removed]",
      "text/plain": [
       "<Figure size 720x216 with 1 Axes>"
      ]
     },
     "metadata": {
      "needs_background": "light"
     },
     "output_type": "display_data"
    }
   ],
   "source": [
    "fig = plt.figure(figsize=(10,3))\n",
    "ax = plt.hist(dif_bootstrap_means, bins=30)\n",
    "\n",
    "plt.xlabel('Difference in Gender Body Temperature')\n",
    "plt.ylabel('Frequency')\n",
    "plt.axvline(obs_difs, color='r')\n",
    "plt.show()"
   ]
  },
  {
   "cell_type": "markdown",
   "metadata": {},
   "source": [
    "Q6)  Is there a significant difference between males and females in normal temperature?\n",
    "\n",
    "The Bootstrap Hypothesis Testing was used to compare the male and female body temperatures in this study.  The sample\n",
    "was divided into data1 which had the temperature for males and data2 which had the female temperatures.  The code\n",
    "generated 10,000 samples from the combined original dataset and then calcuated the difference in sample means.  A histogram\n",
    "was generated to see the distribution of the differences in the sample means.  The p value was also calcualted from the bootstrap distribution and observed difference of means and graphed below.\n",
    "\n",
    "The large p value of 0.501 shows no significant difference in the means between gender and the null hypothesis \n",
    "cannot be rejected at this time.  "
   ]
  },
  {
   "cell_type": "markdown",
   "metadata": {},
   "source": [
    "CONCLUSIONS\n",
    "\n",
    "Body temperature does vary from the 37 ∘ C or 98.6 ∘ value that was established by Carl Wunderlich in a famous 1868 book. However this distribution that was sampled does appear to be normal from this study.  If the body temperature is outside of the 95% Confidence Interval for a value less than 96.81 or more than 99.69, it is considered abnormal from the previous tests.  Finally there was no significant difference between gender temperature from this study based on the Bootstrap Hypothesis Testing.  "
   ]
  }
 ],
 "metadata": {
  "kernelspec": {
   "display_name": "Python 3",
   "language": "python",
   "name": "python3"
  },
  "language_info": {
   "codemirror_mode": {
    "name": "ipython",
    "version": 3
   },
   "file_extension": ".py",
   "mimetype": "text/x-python",
   "name": "python",
   "nbconvert_exporter": "python",
   "pygments_lexer": "ipython3",
   "version": "3.7.1"
  }
 },
 "nbformat": 4,
 "nbformat_minor": 1
}
